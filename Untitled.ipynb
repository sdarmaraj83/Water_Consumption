{
 "cells": [
  {
   "cell_type": "code",
   "execution_count": 1,
   "id": "a51f2eae-4dc8-4ea8-993a-ba36f8cddc53",
   "metadata": {},
   "outputs": [
    {
     "name": "stdout",
     "output_type": "stream",
     "text": [
      "           state       sector       date  value\n",
      "0       Malaysia     domestic 2003-01-01   4394\n",
      "1       Malaysia     domestic 2004-01-01   4770\n",
      "2       Malaysia     domestic 2005-01-01   4992\n",
      "3       Malaysia     domestic 2006-01-01   5025\n",
      "4       Malaysia     domestic 2007-01-01   5381\n",
      "..           ...          ...        ...    ...\n",
      "595  W.P. Labuan  nondomestic 2018-01-01     33\n",
      "596  W.P. Labuan  nondomestic 2019-01-01     36\n",
      "597  W.P. Labuan  nondomestic 2020-01-01     40\n",
      "598  W.P. Labuan  nondomestic 2021-01-01     32\n",
      "599  W.P. Labuan  nondomestic 2022-01-01     33\n",
      "\n",
      "[600 rows x 4 columns]\n"
     ]
    }
   ],
   "source": [
    "import pandas as pd\n",
    "\n",
    "URL_DATA = 'https://storage.data.gov.my/water/water_consumption.parquet'\n",
    "\n",
    "df = pd.read_parquet(URL_DATA)\n",
    "if 'date' in df.columns: df['date'] = pd.to_datetime(df['date'])\n",
    "\n",
    "print(df)"
   ]
  }
 ],
 "metadata": {
  "kernelspec": {
   "display_name": "Python 3 (ipykernel)",
   "language": "python",
   "name": "python3"
  },
  "language_info": {
   "codemirror_mode": {
    "name": "ipython",
    "version": 3
   },
   "file_extension": ".py",
   "mimetype": "text/x-python",
   "name": "python",
   "nbconvert_exporter": "python",
   "pygments_lexer": "ipython3",
   "version": "3.12.4"
  }
 },
 "nbformat": 4,
 "nbformat_minor": 5
}
